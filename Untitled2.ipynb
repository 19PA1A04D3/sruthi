{
  "nbformat": 4,
  "nbformat_minor": 0,
  "metadata": {
    "colab": {
      "name": "Untitled2.ipynb",
      "provenance": [],
      "authorship_tag": "ABX9TyOXdsfmLujPDmLgjus39kAo",
      "include_colab_link": true
    },
    "kernelspec": {
      "name": "python3",
      "display_name": "Python 3"
    }
  },
  "cells": [
    {
      "cell_type": "markdown",
      "metadata": {
        "id": "view-in-github",
        "colab_type": "text"
      },
      "source": [
        "<a href=\"https://colab.research.google.com/github/19PA1A04D3/sruthi/blob/master/Untitled2.ipynb\" target=\"_parent\"><img src=\"https://colab.research.google.com/assets/colab-badge.svg\" alt=\"Open In Colab\"/></a>"
      ]
    },
    {
      "cell_type": "code",
      "metadata": {
        "id": "Fpx7fxLnP98s",
        "colab_type": "code",
        "colab": {
          "base_uri": "https://localhost:8080/",
          "height": 123
        },
        "outputId": "e56009f3-64bb-43ea-d955-e19bf8d8f8cb"
      },
      "source": [
        "import pandas as pd\n",
        "data = [1,2,3,4,5]\n",
        "df = pd.DataFrame(data)\n",
        "print(df)"
      ],
      "execution_count": 1,
      "outputs": [
        {
          "output_type": "stream",
          "text": [
            "   0\n",
            "0  1\n",
            "1  2\n",
            "2  3\n",
            "3  4\n",
            "4  5\n"
          ],
          "name": "stdout"
        }
      ]
    },
    {
      "cell_type": "code",
      "metadata": {
        "id": "XwNyk-rvQVDW",
        "colab_type": "code",
        "colab": {
          "base_uri": "https://localhost:8080/",
          "height": 87
        },
        "outputId": "fba1fa52-36ff-4e50-9453-cdc0e0eba234"
      },
      "source": [
        "\n",
        "import pandas as pd\n",
        "data = [['Alex',10],['Bob',12],['Clarke',13]]\n",
        "df = pd.DataFrame(data,columns=['Name','Age'])\n",
        "print(df)\n",
        "\n"
      ],
      "execution_count": 2,
      "outputs": [
        {
          "output_type": "stream",
          "text": [
            "     Name  Age\n",
            "0    Alex   10\n",
            "1     Bob   12\n",
            "2  Clarke   13\n"
          ],
          "name": "stdout"
        }
      ]
    },
    {
      "cell_type": "code",
      "metadata": {
        "id": "_sehKRNgQZeQ",
        "colab_type": "code",
        "colab": {
          "base_uri": "https://localhost:8080/",
          "height": 87
        },
        "outputId": "3c1ffe1b-7bb1-4519-cf86-d0a61e2a5118"
      },
      "source": [
        "import pandas as pd\n",
        "data = [['Alex',10],['Bob',12],['Clarke',13]]\n",
        "df = pd.DataFrame(data,columns=['Name','Age'],dtype=float)\n",
        "print(df)"
      ],
      "execution_count": 3,
      "outputs": [
        {
          "output_type": "stream",
          "text": [
            "     Name   Age\n",
            "0    Alex  10.0\n",
            "1     Bob  12.0\n",
            "2  Clarke  13.0\n"
          ],
          "name": "stdout"
        }
      ]
    },
    {
      "cell_type": "code",
      "metadata": {
        "id": "9uzUSRL6QjtC",
        "colab_type": "code",
        "colab": {
          "base_uri": "https://localhost:8080/",
          "height": 105
        },
        "outputId": "f830e1d1-4067-4346-f94c-422e742fc7b7"
      },
      "source": [
        "import pandas as pd\n",
        "data = {'Name':['Tom', 'Jack', 'Steve', 'Ricky'],'Age':[28,34,29,42]}\n",
        "df = pd.DataFrame(data)\n",
        "print(df)"
      ],
      "execution_count": 4,
      "outputs": [
        {
          "output_type": "stream",
          "text": [
            "    Name  Age\n",
            "0    Tom   28\n",
            "1   Jack   34\n",
            "2  Steve   29\n",
            "3  Ricky   42\n"
          ],
          "name": "stdout"
        }
      ]
    },
    {
      "cell_type": "code",
      "metadata": {
        "id": "X08N3v_rQsO6",
        "colab_type": "code",
        "colab": {
          "base_uri": "https://localhost:8080/",
          "height": 105
        },
        "outputId": "8fae5f70-b420-4c42-cce2-eeb86ff6ef6d"
      },
      "source": [
        "import pandas as pd\n",
        "data = {'Name':['Tom', 'Jack', 'Steve', 'Ricky'],'Age':[28,34,29,42]}\n",
        "df = pd.DataFrame(data, index=['rank1','rank2','rank3','rank4'])\n",
        "print(df)"
      ],
      "execution_count": 5,
      "outputs": [
        {
          "output_type": "stream",
          "text": [
            "        Name  Age\n",
            "rank1    Tom   28\n",
            "rank2   Jack   34\n",
            "rank3  Steve   29\n",
            "rank4  Ricky   42\n"
          ],
          "name": "stdout"
        }
      ]
    },
    {
      "cell_type": "code",
      "metadata": {
        "id": "FB2-L2-fQzxi",
        "colab_type": "code",
        "colab": {
          "base_uri": "https://localhost:8080/",
          "height": 70
        },
        "outputId": "ad707845-9a67-47ff-d160-133886d36845"
      },
      "source": [
        "import pandas as pd\n",
        "data = [{'a': 1, 'b': 2},{'a': 5, 'b': 10, 'c': 20}]\n",
        "df = pd.DataFrame(data)\n",
        "print(df)"
      ],
      "execution_count": 6,
      "outputs": [
        {
          "output_type": "stream",
          "text": [
            "   a   b     c\n",
            "0  1   2   NaN\n",
            "1  5  10  20.0\n"
          ],
          "name": "stdout"
        }
      ]
    },
    {
      "cell_type": "code",
      "metadata": {
        "id": "NlOuU0mmQ7By",
        "colab_type": "code",
        "colab": {
          "base_uri": "https://localhost:8080/",
          "height": 70
        },
        "outputId": "eac99855-34b0-4d05-f1fd-b2213d9a6699"
      },
      "source": [
        "import pandas as pd\n",
        "data = [{'a': 1, 'b': 2},{'a': 5, 'b': 10, 'c': 20}]\n",
        "df = pd.DataFrame(data, index=['first', 'second'])\n",
        "print(df)"
      ],
      "execution_count": 7,
      "outputs": [
        {
          "output_type": "stream",
          "text": [
            "        a   b     c\n",
            "first   1   2   NaN\n",
            "second  5  10  20.0\n"
          ],
          "name": "stdout"
        }
      ]
    },
    {
      "cell_type": "code",
      "metadata": {
        "id": "U_Xu9-dRRCji",
        "colab_type": "code",
        "colab": {
          "base_uri": "https://localhost:8080/",
          "height": 105
        },
        "outputId": "aae426a7-01db-4365-edd0-558647a42625"
      },
      "source": [
        "import pandas as pd\n",
        "\n",
        "d = {'one' : pd.Series([1, 2, 3], index=['a', 'b', 'c']),\n",
        "   'two' : pd.Series([1, 2, 3, 4], index=['a', 'b', 'c', 'd'])}\n",
        "\n",
        "df = pd.DataFrame(d)\n",
        "print(df)\n"
      ],
      "execution_count": 8,
      "outputs": [
        {
          "output_type": "stream",
          "text": [
            "   one  two\n",
            "a  1.0    1\n",
            "b  2.0    2\n",
            "c  3.0    3\n",
            "d  NaN    4\n"
          ],
          "name": "stdout"
        }
      ]
    },
    {
      "cell_type": "code",
      "metadata": {
        "id": "6Tw_x-OBRKsE",
        "colab_type": "code",
        "colab": {
          "base_uri": "https://localhost:8080/",
          "height": 105
        },
        "outputId": "fbfe64e4-eb5e-4285-f3ee-b9193642dc33"
      },
      "source": [
        "\n",
        "d = {'one' : pd.Series([1, 2, 3], index=['a', 'b', 'c']),\n",
        "   'two' : pd.Series([1, 2, 3, 4], index=['a', 'b', 'c', 'd'])}\n",
        "\n",
        "df = pd.DataFrame(d)\n",
        "print(df ['one'])"
      ],
      "execution_count": 9,
      "outputs": [
        {
          "output_type": "stream",
          "text": [
            "a    1.0\n",
            "b    2.0\n",
            "c    3.0\n",
            "d    NaN\n",
            "Name: one, dtype: float64\n"
          ],
          "name": "stdout"
        }
      ]
    },
    {
      "cell_type": "code",
      "metadata": {
        "id": "lR9bnJmSRUbl",
        "colab_type": "code",
        "colab": {}
      },
      "source": [
        "import pandas as pd\n",
        "\n",
        "d = {'one' : pd.Series([1, 2, 3], index=['a', 'b', 'c']),\n",
        "   'two' : pd.Series([1, 2, 3, 4], index=['a', 'b', 'c', 'd'])}\n",
        "\n",
        "df = pd.DataFrame(d)\n"
      ],
      "execution_count": 0,
      "outputs": []
    },
    {
      "cell_type": "code",
      "metadata": {
        "id": "5h9XtGbIRhxq",
        "colab_type": "code",
        "colab": {
          "base_uri": "https://localhost:8080/",
          "height": 230
        },
        "outputId": "073e3560-67b7-4e26-9e83-58b935e82f23"
      },
      "source": [
        "\n",
        "print (\"Adding a new column by passing as Series:\")\n",
        "df['three']=pd.Series([10,20,30],index=['a','b','c'])\n",
        "print(df)\n",
        "\n",
        "print (\"Adding a new column using the existing columns in DataFrame:\")\n",
        "df['four']=df['one']+df['three']\n",
        "\n",
        "print(df)\n"
      ],
      "execution_count": 13,
      "outputs": [
        {
          "output_type": "stream",
          "text": [
            "Adding a new column by passing as Series:\n",
            "   one  two  three\n",
            "a  1.0    1   10.0\n",
            "b  2.0    2   20.0\n",
            "c  3.0    3   30.0\n",
            "d  NaN    4    NaN\n",
            "Adding a new column using the existing columns in DataFrame:\n",
            "   one  two  three  four\n",
            "a  1.0    1   10.0  11.0\n",
            "b  2.0    2   20.0  22.0\n",
            "c  3.0    3   30.0  33.0\n",
            "d  NaN    4    NaN   NaN\n"
          ],
          "name": "stdout"
        }
      ]
    },
    {
      "cell_type": "code",
      "metadata": {
        "id": "1GGYjQUpZnVo",
        "colab_type": "code",
        "colab": {
          "base_uri": "https://localhost:8080/",
          "height": 958
        },
        "outputId": "022ff839-21ea-4219-818c-43d7e59475ea"
      },
      "source": [
        "import pandas as pd\n",
        "a=pd.read_csv(\"/content/sample_data/anscombe.json\")\n",
        "print(a)\n",
        "print(a.info())"
      ],
      "execution_count": 15,
      "outputs": [
        {
          "output_type": "stream",
          "text": [
            "                                          [\n",
            "  {\"Series\":\"I\"    \"X\":10.0  \"Y\":8.04}  NaN\n",
            "                   \"X\":8.0   \"Y\":6.95}  NaN\n",
            "                   \"X\":13.0  \"Y\":7.58}  NaN\n",
            "                   \"X\":9.0   \"Y\":8.81}  NaN\n",
            "                   \"X\":11.0  \"Y\":8.33}  NaN\n",
            "                   \"X\":14.0  \"Y\":9.96}  NaN\n",
            "                   \"X\":6.0   \"Y\":7.24}  NaN\n",
            "                   \"X\":4.0   \"Y\":4.26}  NaN\n",
            "                   \"X\":12.0  \"Y\":10.84} NaN\n",
            "                   \"X\":7.0   \"Y\":4.81}  NaN\n",
            "                   \"X\":5.0   \"Y\":5.68}  NaN\n",
            "  {\"Series\":\"II\"   \"X\":10.0  \"Y\":9.14}  NaN\n",
            "                   \"X\":8.0   \"Y\":8.14}  NaN\n",
            "                   \"X\":13.0  \"Y\":8.74}  NaN\n",
            "                   \"X\":9.0   \"Y\":8.77}  NaN\n",
            "                   \"X\":11.0  \"Y\":9.26}  NaN\n",
            "                   \"X\":14.0  \"Y\":8.10}  NaN\n",
            "                   \"X\":6.0   \"Y\":6.13}  NaN\n",
            "                   \"X\":4.0   \"Y\":3.10}  NaN\n",
            "                   \"X\":12.0  \"Y\":9.13}  NaN\n",
            "                   \"X\":7.0   \"Y\":7.26}  NaN\n",
            "                   \"X\":5.0   \"Y\":4.74}  NaN\n",
            "  {\"Series\":\"III\"  \"X\":10.0  \"Y\":7.46}  NaN\n",
            "                   \"X\":8.0   \"Y\":6.77}  NaN\n",
            "                   \"X\":13.0  \"Y\":12.74} NaN\n",
            "                   \"X\":9.0   \"Y\":7.11}  NaN\n",
            "                   \"X\":11.0  \"Y\":7.81}  NaN\n",
            "                   \"X\":14.0  \"Y\":8.84}  NaN\n",
            "                   \"X\":6.0   \"Y\":6.08}  NaN\n",
            "                   \"X\":4.0   \"Y\":5.39}  NaN\n",
            "                   \"X\":12.0  \"Y\":8.15}  NaN\n",
            "                   \"X\":7.0   \"Y\":6.42}  NaN\n",
            "                   \"X\":5.0   \"Y\":5.73}  NaN\n",
            "  {\"Series\":\"IV\"   \"X\":8.0   \"Y\":6.58}  NaN\n",
            "                             \"Y\":5.76}  NaN\n",
            "                             \"Y\":7.71}  NaN\n",
            "                             \"Y\":8.84}  NaN\n",
            "                             \"Y\":8.47}  NaN\n",
            "                             \"Y\":7.04}  NaN\n",
            "                             \"Y\":5.25}  NaN\n",
            "                   \"X\":19.0  \"Y\":12.50} NaN\n",
            "                   \"X\":8.0   \"Y\":5.56}  NaN\n",
            "                             \"Y\":7.91}  NaN\n",
            "                             \"Y\":6.89}  NaN\n",
            "]                 NaN       NaN         NaN\n",
            "<class 'pandas.core.frame.DataFrame'>\n",
            "MultiIndex: 45 entries, (  {\"Series\":\"I\",  \"X\":10.0,  \"Y\":8.04}) to (], nan, nan)\n",
            "Data columns (total 1 columns):\n",
            "[    0 non-null float64\n",
            "dtypes: float64(1)\n",
            "memory usage: 1023.0+ bytes\n",
            "None\n"
          ],
          "name": "stdout"
        }
      ]
    }
  ]
}